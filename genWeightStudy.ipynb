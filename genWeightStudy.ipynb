{
 "cells": [
  {
   "cell_type": "code",
   "execution_count": 1,
   "metadata": {},
   "outputs": [],
   "source": [
    "import uproot"
   ]
  },
  {
   "cell_type": "code",
   "execution_count": 2,
   "metadata": {},
   "outputs": [],
   "source": [
    "rtfile = uproot.open(\"data/mWPilot/ZJToMuMu_mWPilot_TuneCP5_13TeV-powheg-MiNNLO-pythia8-photos_NanoGen_1.root\")"
   ]
  },
  {
   "cell_type": "code",
   "execution_count": 3,
   "metadata": {},
   "outputs": [],
   "source": [
    "df = rtfile[\"Events\"].pandas.df([\"LHEPart*\",\"genWeight\"], flatten=False)"
   ]
  },
  {
   "cell_type": "code",
   "execution_count": 4,
   "metadata": {},
   "outputs": [
    {
     "data": {
      "text/html": [
       "<div>\n",
       "<style scoped>\n",
       "    .dataframe tbody tr th:only-of-type {\n",
       "        vertical-align: middle;\n",
       "    }\n",
       "\n",
       "    .dataframe tbody tr th {\n",
       "        vertical-align: top;\n",
       "    }\n",
       "\n",
       "    .dataframe thead th {\n",
       "        text-align: right;\n",
       "    }\n",
       "</style>\n",
       "<table border=\"1\" class=\"dataframe\">\n",
       "  <thead>\n",
       "    <tr style=\"text-align: right;\">\n",
       "      <th></th>\n",
       "      <th>LHEPart_pt</th>\n",
       "      <th>LHEPart_eta</th>\n",
       "      <th>LHEPart_phi</th>\n",
       "      <th>LHEPart_mass</th>\n",
       "      <th>LHEPart_pdgId</th>\n",
       "      <th>genWeight</th>\n",
       "    </tr>\n",
       "    <tr>\n",
       "      <th>entry</th>\n",
       "      <th></th>\n",
       "      <th></th>\n",
       "      <th></th>\n",
       "      <th></th>\n",
       "      <th></th>\n",
       "      <th></th>\n",
       "    </tr>\n",
       "  </thead>\n",
       "  <tbody>\n",
       "    <tr>\n",
       "      <th>0</th>\n",
       "      <td>[30.903091, 24.801176, 10.126861, 9.532549]</td>\n",
       "      <td>[-3.557411, -1.2928073, -3.5060477, -3.2213554]</td>\n",
       "      <td>[-2.4285138, 0.025982028, 1.7023908, 1.5802811]</td>\n",
       "      <td>[0.10566822, 0.10569724, 0.002640062, 0.002845...</td>\n",
       "      <td>[13, -13, 21, 21]</td>\n",
       "      <td>2624.360107</td>\n",
       "    </tr>\n",
       "    <tr>\n",
       "      <th>1</th>\n",
       "      <td>[14.922913, 33.195957, 12.762807, 13.150437]</td>\n",
       "      <td>[-0.14027546, -2.1633391, -2.1444392, -5.5089087]</td>\n",
       "      <td>[-1.7829586, 0.5572911, -2.7858038, 3.0290399]</td>\n",
       "      <td>[0.10569985, 0.10559314, -0.0007272569, -0.023...</td>\n",
       "      <td>[13, -13, 21, 21]</td>\n",
       "      <td>2624.360107</td>\n",
       "    </tr>\n",
       "    <tr>\n",
       "      <th>2</th>\n",
       "      <td>[26.813852, 25.535078, 13.718618, 3.4002266]</td>\n",
       "      <td>[-0.25951165, -2.5569708, -4.0921917, 2.787839]</td>\n",
       "      <td>[3.052921, 0.31495643, -1.2326318, 2.2446449]</td>\n",
       "      <td>[0.1056998, 0.105762035, 0.0036961955, 0.00052...</td>\n",
       "      <td>[13, -13, 21, -1]</td>\n",
       "      <td>2624.360107</td>\n",
       "    </tr>\n",
       "  </tbody>\n",
       "</table>\n",
       "</div>"
      ],
      "text/plain": [
       "                                         LHEPart_pt  \\\n",
       "entry                                                 \n",
       "0       [30.903091, 24.801176, 10.126861, 9.532549]   \n",
       "1      [14.922913, 33.195957, 12.762807, 13.150437]   \n",
       "2      [26.813852, 25.535078, 13.718618, 3.4002266]   \n",
       "\n",
       "                                             LHEPart_eta  \\\n",
       "entry                                                      \n",
       "0        [-3.557411, -1.2928073, -3.5060477, -3.2213554]   \n",
       "1      [-0.14027546, -2.1633391, -2.1444392, -5.5089087]   \n",
       "2        [-0.25951165, -2.5569708, -4.0921917, 2.787839]   \n",
       "\n",
       "                                           LHEPart_phi  \\\n",
       "entry                                                    \n",
       "0      [-2.4285138, 0.025982028, 1.7023908, 1.5802811]   \n",
       "1       [-1.7829586, 0.5572911, -2.7858038, 3.0290399]   \n",
       "2        [3.052921, 0.31495643, -1.2326318, 2.2446449]   \n",
       "\n",
       "                                            LHEPart_mass      LHEPart_pdgId  \\\n",
       "entry                                                                         \n",
       "0      [0.10566822, 0.10569724, 0.002640062, 0.002845...  [13, -13, 21, 21]   \n",
       "1      [0.10569985, 0.10559314, -0.0007272569, -0.023...  [13, -13, 21, 21]   \n",
       "2      [0.1056998, 0.105762035, 0.0036961955, 0.00052...  [13, -13, 21, -1]   \n",
       "\n",
       "         genWeight  \n",
       "entry               \n",
       "0      2624.360107  \n",
       "1      2624.360107  \n",
       "2      2624.360107  "
      ]
     },
     "execution_count": 4,
     "metadata": {},
     "output_type": "execute_result"
    }
   ],
   "source": [
    "df.head(3)"
   ]
  },
  {
   "cell_type": "code",
   "execution_count": 5,
   "metadata": {},
   "outputs": [],
   "source": [
    "nominalw = float(df[\"genWeight\"].mode())"
   ]
  },
  {
   "cell_type": "code",
   "execution_count": 7,
   "metadata": {},
   "outputs": [],
   "source": [
    "import matplotlib.pyplot as plt"
   ]
  },
  {
   "cell_type": "code",
   "execution_count": 15,
   "metadata": {},
   "outputs": [],
   "source": [
    "from uproot_methods import TLorentzVector"
   ]
  },
  {
   "cell_type": "code",
   "execution_count": 82,
   "metadata": {},
   "outputs": [],
   "source": [
    "df[\"mu1idx\"] = df.apply(lambda x: 0 if x[\"LHEPart_pt\"][0] > x[\"LHEPart_pt\"][1] else 1, axis=1)\n",
    "df[\"mu2idx\"] = df.apply(lambda x: 1 if x[\"LHEPart_pt\"][0] > x[\"LHEPart_pt\"][1] else 0, axis=1)"
   ]
  },
  {
   "cell_type": "code",
   "execution_count": 83,
   "metadata": {},
   "outputs": [],
   "source": [
    "df[\"mu1\"] = df.apply(lambda x: TLorentzVector.from_ptetaphim(x[\"LHEPart_pt\"][x[\"mu1idx\"]], x[\"LHEPart_eta\"][x[\"mu1idx\"]], x[\"LHEPart_phi\"][x[\"mu1idx\"]], x[\"LHEPart_mass\"][x[\"mu1idx\"]]), axis=1)\n",
    "df[\"mu2\"] = df.apply(lambda x: TLorentzVector.from_ptetaphim(x[\"LHEPart_pt\"][x[\"mu2idx\"]], x[\"LHEPart_eta\"][x[\"mu2idx\"]], x[\"LHEPart_phi\"][x[\"mu2idx\"]], x[\"LHEPart_mass\"][x[\"mu2idx\"]]), axis=1)"
   ]
  },
  {
   "cell_type": "code",
   "execution_count": 86,
   "metadata": {},
   "outputs": [],
   "source": [
    "df[\"pZ\"] = df[\"mu1\"] + df[\"mu2\"]"
   ]
  },
  {
   "cell_type": "code",
   "execution_count": 87,
   "metadata": {},
   "outputs": [],
   "source": [
    "df[\"yZ\"] = df.apply(lambda x: x[\"pZ\"].rapidity, axis=1)\n",
    "df[\"ptZ\"] = df.apply(lambda x: x[\"pZ\"].pt, axis=1)\n",
    "df[\"ptmu1\"] = df.apply(lambda x: x[\"mu1\"].pt, axis=1)\n",
    "df[\"etamu1\"] = df.apply(lambda x: x[\"mu1\"].eta, axis=1)\n",
    "df[\"ptmu2\"] = df.apply(lambda x: x[\"mu2\"].pt, axis=1)\n",
    "df[\"etamu2\"] = df.apply(lambda x: x[\"mu2\"].eta, axis=1)"
   ]
  },
  {
   "cell_type": "code",
   "execution_count": 89,
   "metadata": {},
   "outputs": [],
   "source": [
    "df[\"NormAbsGenWeight\"] = abs(df[\"genWeight\"])/nominalw"
   ]
  },
  {
   "cell_type": "code",
   "execution_count": 90,
   "metadata": {},
   "outputs": [
    {
     "data": {
      "text/html": [
       "<div>\n",
       "<style scoped>\n",
       "    .dataframe tbody tr th:only-of-type {\n",
       "        vertical-align: middle;\n",
       "    }\n",
       "\n",
       "    .dataframe tbody tr th {\n",
       "        vertical-align: top;\n",
       "    }\n",
       "\n",
       "    .dataframe thead th {\n",
       "        text-align: right;\n",
       "    }\n",
       "</style>\n",
       "<table border=\"1\" class=\"dataframe\">\n",
       "  <thead>\n",
       "    <tr style=\"text-align: right;\">\n",
       "      <th></th>\n",
       "      <th>LHEPart_pt</th>\n",
       "      <th>LHEPart_eta</th>\n",
       "      <th>LHEPart_phi</th>\n",
       "      <th>LHEPart_mass</th>\n",
       "      <th>LHEPart_pdgId</th>\n",
       "      <th>genWeight</th>\n",
       "      <th>mu1idx</th>\n",
       "      <th>mu2idx</th>\n",
       "      <th>mu1</th>\n",
       "      <th>mu2</th>\n",
       "      <th>pZ</th>\n",
       "      <th>yZ</th>\n",
       "      <th>ptZ</th>\n",
       "      <th>ptmu1</th>\n",
       "      <th>etamu1</th>\n",
       "      <th>ptmu2</th>\n",
       "      <th>etamu2</th>\n",
       "      <th>NormAbsGenWeight</th>\n",
       "    </tr>\n",
       "    <tr>\n",
       "      <th>entry</th>\n",
       "      <th></th>\n",
       "      <th></th>\n",
       "      <th></th>\n",
       "      <th></th>\n",
       "      <th></th>\n",
       "      <th></th>\n",
       "      <th></th>\n",
       "      <th></th>\n",
       "      <th></th>\n",
       "      <th></th>\n",
       "      <th></th>\n",
       "      <th></th>\n",
       "      <th></th>\n",
       "      <th></th>\n",
       "      <th></th>\n",
       "      <th></th>\n",
       "      <th></th>\n",
       "      <th></th>\n",
       "    </tr>\n",
       "  </thead>\n",
       "  <tbody>\n",
       "    <tr>\n",
       "      <th>18</th>\n",
       "      <td>[33.090107, 35.286182, 3.5647545, 3.9084585]</td>\n",
       "      <td>[2.5076802, 0.9720598, -0.81025046, -5.278893]</td>\n",
       "      <td>[-0.096453495, -3.0659215, 0.59848917, 1.7498925]</td>\n",
       "      <td>[0.10566151, 0.10569675, -4.6691897e-05, 0.001...</td>\n",
       "      <td>[13, -13, -2, 21]</td>\n",
       "      <td>-2722.629883</td>\n",
       "      <td>1</td>\n",
       "      <td>0</td>\n",
       "      <td>TLorentzVector(35.286, 0.97206, -3.0659, 0.1057)</td>\n",
       "      <td>TLorentzVector(33.09, 2.5077, -0.096453, 0.10566)</td>\n",
       "      <td>TLorentzVector(-2.2489, -5.8543, 241.73, 257.77)</td>\n",
       "      <td>1.719126</td>\n",
       "      <td>6.271401</td>\n",
       "      <td>35.286182</td>\n",
       "      <td>0.972060</td>\n",
       "      <td>33.090107</td>\n",
       "      <td>2.507680</td>\n",
       "      <td>1.037445</td>\n",
       "    </tr>\n",
       "    <tr>\n",
       "      <th>48</th>\n",
       "      <td>[41.810722, 37.049107, 23.092834, 8.678236]</td>\n",
       "      <td>[2.9927595, 2.7645185, -4.603598, 4.8588624]</td>\n",
       "      <td>[-1.3886402, 1.4055235, 2.8188076, -0.32250807]</td>\n",
       "      <td>[0.105441265, 0.1055967, 0.025942164, 0.004892...</td>\n",
       "      <td>[13, -13, 2, 2]</td>\n",
       "      <td>4266.350098</td>\n",
       "      <td>0</td>\n",
       "      <td>1</td>\n",
       "      <td>TLorentzVector(41.811, 2.9928, -1.3886, 0.10544)</td>\n",
       "      <td>TLorentzVector(37.049, 2.7645, 1.4055, 0.1056)</td>\n",
       "      <td>TLorentzVector(13.669, -4.5747, 708.66, 713.09)</td>\n",
       "      <td>2.885496</td>\n",
       "      <td>14.414600</td>\n",
       "      <td>41.810722</td>\n",
       "      <td>2.992759</td>\n",
       "      <td>37.049107</td>\n",
       "      <td>2.764518</td>\n",
       "      <td>1.625673</td>\n",
       "    </tr>\n",
       "    <tr>\n",
       "      <th>50</th>\n",
       "      <td>[40.181534, 40.667107, 0.7588111]</td>\n",
       "      <td>[1.0845942, 0.10189554, 6.853587]</td>\n",
       "      <td>[0.7461427, -2.3810248, 1.6297882]</td>\n",
       "      <td>[0.105699874, 0.10570107, -0.005876068]</td>\n",
       "      <td>[13, -13, 21]</td>\n",
       "      <td>2682.320068</td>\n",
       "      <td>1</td>\n",
       "      <td>0</td>\n",
       "      <td>TLorentzVector(40.667, 0.1019, -2.381, 0.1057)</td>\n",
       "      <td>TLorentzVector(40.182, 1.0846, 0.74614, 0.1057)</td>\n",
       "      <td>TLorentzVector(0.044741, -0.75749, 56.793, 107.1)</td>\n",
       "      <td>0.590509</td>\n",
       "      <td>0.758814</td>\n",
       "      <td>40.667107</td>\n",
       "      <td>0.101896</td>\n",
       "      <td>40.181534</td>\n",
       "      <td>1.084594</td>\n",
       "      <td>1.022085</td>\n",
       "    </tr>\n",
       "    <tr>\n",
       "      <th>58</th>\n",
       "      <td>[29.010303, 30.190462, 2.3031387, 1.2752542]</td>\n",
       "      <td>[-3.159257, -5.020298, -0.8731823, -0.14827591]</td>\n",
       "      <td>[2.3041706, -0.8835601, 0.8388475, 3.0853229]</td>\n",
       "      <td>[0.10571888, 0.11178248, 7.142658e-05, -1.8527...</td>\n",
       "      <td>[13, -13, 2, 21]</td>\n",
       "      <td>3997.139893</td>\n",
       "      <td>1</td>\n",
       "      <td>0</td>\n",
       "      <td>TLorentzVector(30.19, -5.0203, -0.88356, 0.11178)</td>\n",
       "      <td>TLorentzVector(29.01, -3.1593, 2.3042, 0.10572)</td>\n",
       "      <td>TLorentzVector(-0.266, -1.785, -2627.2, 2628.6)</td>\n",
       "      <td>-4.104341</td>\n",
       "      <td>1.804675</td>\n",
       "      <td>30.190462</td>\n",
       "      <td>-5.020298</td>\n",
       "      <td>29.010303</td>\n",
       "      <td>-3.159257</td>\n",
       "      <td>1.523091</td>\n",
       "    </tr>\n",
       "    <tr>\n",
       "      <th>64</th>\n",
       "      <td>[23.2739, 22.091331, 25.424812, 9.581957]</td>\n",
       "      <td>[-1.1621165, -2.443084, 3.189982, 1.3109818]</td>\n",
       "      <td>[-2.8517795, -0.44892836, 1.2641567, -2.153613]</td>\n",
       "      <td>[0.10570022, 0.10562226, -0.0027977522, 0.0002...</td>\n",
       "      <td>[13, -13, 21, 2]</td>\n",
       "      <td>15982.599609</td>\n",
       "      <td>0</td>\n",
       "      <td>1</td>\n",
       "      <td>TLorentzVector(23.274, -1.1621, -2.8518, 0.1057)</td>\n",
       "      <td>TLorentzVector(22.091, -2.4431, -0.44893, 0.10...</td>\n",
       "      <td>TLorentzVector(-2.401, -16.239, -159.72, 168.92)</td>\n",
       "      <td>-1.787855</td>\n",
       "      <td>16.415237</td>\n",
       "      <td>23.273899</td>\n",
       "      <td>-1.162117</td>\n",
       "      <td>22.091331</td>\n",
       "      <td>-2.443084</td>\n",
       "      <td>6.090094</td>\n",
       "    </tr>\n",
       "  </tbody>\n",
       "</table>\n",
       "</div>"
      ],
      "text/plain": [
       "                                         LHEPart_pt  \\\n",
       "entry                                                 \n",
       "18     [33.090107, 35.286182, 3.5647545, 3.9084585]   \n",
       "48      [41.810722, 37.049107, 23.092834, 8.678236]   \n",
       "50                [40.181534, 40.667107, 0.7588111]   \n",
       "58     [29.010303, 30.190462, 2.3031387, 1.2752542]   \n",
       "64        [23.2739, 22.091331, 25.424812, 9.581957]   \n",
       "\n",
       "                                           LHEPart_eta  \\\n",
       "entry                                                    \n",
       "18      [2.5076802, 0.9720598, -0.81025046, -5.278893]   \n",
       "48        [2.9927595, 2.7645185, -4.603598, 4.8588624]   \n",
       "50                   [1.0845942, 0.10189554, 6.853587]   \n",
       "58     [-3.159257, -5.020298, -0.8731823, -0.14827591]   \n",
       "64        [-1.1621165, -2.443084, 3.189982, 1.3109818]   \n",
       "\n",
       "                                             LHEPart_phi  \\\n",
       "entry                                                      \n",
       "18     [-0.096453495, -3.0659215, 0.59848917, 1.7498925]   \n",
       "48       [-1.3886402, 1.4055235, 2.8188076, -0.32250807]   \n",
       "50                    [0.7461427, -2.3810248, 1.6297882]   \n",
       "58         [2.3041706, -0.8835601, 0.8388475, 3.0853229]   \n",
       "64       [-2.8517795, -0.44892836, 1.2641567, -2.153613]   \n",
       "\n",
       "                                            LHEPart_mass      LHEPart_pdgId  \\\n",
       "entry                                                                         \n",
       "18     [0.10566151, 0.10569675, -4.6691897e-05, 0.001...  [13, -13, -2, 21]   \n",
       "48     [0.105441265, 0.1055967, 0.025942164, 0.004892...    [13, -13, 2, 2]   \n",
       "50               [0.105699874, 0.10570107, -0.005876068]      [13, -13, 21]   \n",
       "58     [0.10571888, 0.11178248, 7.142658e-05, -1.8527...   [13, -13, 2, 21]   \n",
       "64     [0.10570022, 0.10562226, -0.0027977522, 0.0002...   [13, -13, 21, 2]   \n",
       "\n",
       "          genWeight  mu1idx  mu2idx  \\\n",
       "entry                                 \n",
       "18     -2722.629883       1       0   \n",
       "48      4266.350098       0       1   \n",
       "50      2682.320068       1       0   \n",
       "58      3997.139893       1       0   \n",
       "64     15982.599609       0       1   \n",
       "\n",
       "                                                     mu1  \\\n",
       "entry                                                      \n",
       "18      TLorentzVector(35.286, 0.97206, -3.0659, 0.1057)   \n",
       "48      TLorentzVector(41.811, 2.9928, -1.3886, 0.10544)   \n",
       "50        TLorentzVector(40.667, 0.1019, -2.381, 0.1057)   \n",
       "58     TLorentzVector(30.19, -5.0203, -0.88356, 0.11178)   \n",
       "64      TLorentzVector(23.274, -1.1621, -2.8518, 0.1057)   \n",
       "\n",
       "                                                     mu2  \\\n",
       "entry                                                      \n",
       "18     TLorentzVector(33.09, 2.5077, -0.096453, 0.10566)   \n",
       "48        TLorentzVector(37.049, 2.7645, 1.4055, 0.1056)   \n",
       "50       TLorentzVector(40.182, 1.0846, 0.74614, 0.1057)   \n",
       "58       TLorentzVector(29.01, -3.1593, 2.3042, 0.10572)   \n",
       "64     TLorentzVector(22.091, -2.4431, -0.44893, 0.10...   \n",
       "\n",
       "                                                      pZ        yZ        ptZ  \\\n",
       "entry                                                                           \n",
       "18      TLorentzVector(-2.2489, -5.8543, 241.73, 257.77)  1.719126   6.271401   \n",
       "48       TLorentzVector(13.669, -4.5747, 708.66, 713.09)  2.885496  14.414600   \n",
       "50     TLorentzVector(0.044741, -0.75749, 56.793, 107.1)  0.590509   0.758814   \n",
       "58       TLorentzVector(-0.266, -1.785, -2627.2, 2628.6) -4.104341   1.804675   \n",
       "64      TLorentzVector(-2.401, -16.239, -159.72, 168.92) -1.787855  16.415237   \n",
       "\n",
       "           ptmu1    etamu1      ptmu2    etamu2  NormAbsGenWeight  \n",
       "entry                                                              \n",
       "18     35.286182  0.972060  33.090107  2.507680          1.037445  \n",
       "48     41.810722  2.992759  37.049107  2.764518          1.625673  \n",
       "50     40.667107  0.101896  40.181534  1.084594          1.022085  \n",
       "58     30.190462 -5.020298  29.010303 -3.159257          1.523091  \n",
       "64     23.273899 -1.162117  22.091331 -2.443084          6.090094  "
      ]
     },
     "execution_count": 90,
     "metadata": {},
     "output_type": "execute_result"
    }
   ],
   "source": [
    "df_filt = df[(abs(df[\"genWeight\"])-nominalw)/nominalw > 0.01].copy(deep=True)\n",
    "df_filt.head()"
   ]
  },
  {
   "cell_type": "code",
   "execution_count": 96,
   "metadata": {},
   "outputs": [],
   "source": [
    "df_filtnom = df[(abs(df[\"genWeight\"])-nominalw)/nominalw < 0.01].copy(deep=True)"
   ]
  },
  {
   "cell_type": "code",
   "execution_count": null,
   "metadata": {},
   "outputs": [],
   "source": [
    "plt.hist(df_filt[\"genWeight\"]/nominalw, bins=[-10+i*0.1 for i in range(0,200)])\n",
    "plt.show()"
   ]
  },
  {
   "cell_type": "code",
   "execution_count": 75,
   "metadata": {},
   "outputs": [
    {
     "data": {
      "image/png": "[encoded data removed]",
      "text/plain": [
       "<Figure size 432x288 with 1 Axes>"
      ]
     },
     "metadata": {
      "needs_background": "light"
     },
     "output_type": "display_data"
    }
   ],
   "source": [
    "hist = plt.hist2d(df_filt[\"ptZ\"], df_filt[\"NormAbsGenWeight\"], bins=([0.25*i for i in range(100)], [1+0.5*i for i in range(9)]))\n",
    "plt.xlabel(\"ptZ\")\n",
    "plt.ylabel(\"|weight/nominal weight|\")\n",
    "plt.show()"
   ]
  },
  {
   "cell_type": "code",
   "execution_count": 95,
   "metadata": {},
   "outputs": [
    {
     "data": {
      "image/png": "[encoded data removed]",
      "text/plain": [
       "<Figure size 432x288 with 1 Axes>"
      ]
     },
     "metadata": {
      "needs_background": "light"
     },
     "output_type": "display_data"
    }
   ],
   "source": [
    "hist = plt.hist2d(df[\"ptZ\"], df[\"NormAbsGenWeight\"], bins=([0.25*i for i in range(100)], [1.0,1.1]+[1+0.5*i for i in range(1,9)]))\n",
    "plt.xlabel(\"ptZ\")\n",
    "plt.ylabel(\"|weight/nominal weight|\")\n",
    "plt.show()"
   ]
  },
  {
   "cell_type": "code",
   "execution_count": 110,
   "metadata": {},
   "outputs": [
    {
     "data": {
      "image/png": "[encoded data removed]",
      "text/plain": [
       "<Figure size 432x288 with 1 Axes>"
      ]
     },
     "metadata": {
      "needs_background": "light"
     },
     "output_type": "display_data"
    }
   ],
   "source": [
    "hist = plt.hist(df_filtnom[\"yZ\"], bins=([-5+0.25*i for i in range(41)]), alpha=0.5, label=\"unit weight\", density=True)\n",
    "hist = plt.hist(df_filt[\"yZ\"], bins=([-5+0.25*i for i in range(41)]), alpha=0.5, label=\"non-unit weight\", density=True)\n",
    "plt.legend()\n",
    "plt.xlabel(\"yZ\")\n",
    "plt.show()"
   ]
  },
  {
   "cell_type": "code",
   "execution_count": 107,
   "metadata": {},
   "outputs": [
    {
     "data": {
      "image/png": "[encoded data removed]",
      "text/plain": [
       "<Figure size 432x288 with 1 Axes>"
      ]
     },
     "metadata": {
      "needs_background": "light"
     },
     "output_type": "display_data"
    }
   ],
   "source": [
    "histnom = plt.hist(df_filtnom[\"ptZ\"], bins=([0.5*i for i in range(100)]), density=True, alpha=0.5, label=\"unit weight\")\n",
    "histlarge = plt.hist(df_filt[\"ptZ\"], bins=([0.5*i for i in range(100)]), density=True, alpha=0.5, label=\"non-unit weight\")\n",
    "plt.legend()\n",
    "plt.xlabel(\"yZ\")\n",
    "plt.show()"
   ]
  },
  {
   "cell_type": "code",
   "execution_count": null,
   "metadata": {},
   "outputs": [],
   "source": []
  },
  {
   "cell_type": "code",
   "execution_count": 77,
   "metadata": {},
   "outputs": [
    {
     "data": {
      "image/png": "[encoded data removed]",
      "text/plain": [
       "<Figure size 432x288 with 1 Axes>"
      ]
     },
     "metadata": {
      "needs_background": "light"
     },
     "output_type": "display_data"
    }
   ],
   "source": [
    "hist = plt.hist2d(df_filt[\"etamu1\"], df_filt[\"NormAbsGenWeight\"], bins=([-6+0.25*i for i in range(49)], [1+0.5*i for i in range(9)]))\n",
    "plt.xlabel(\"etamu1\")\n",
    "plt.ylabel(\"|weight/nominal weight|\")\n",
    "plt.show()"
   ]
  },
  {
   "cell_type": "code",
   "execution_count": 78,
   "metadata": {},
   "outputs": [
    {
     "data": {
      "image/png": "[encoded data removed]",
      "text/plain": [
       "<Figure size 432x288 with 1 Axes>"
      ]
     },
     "metadata": {
      "needs_background": "light"
     },
     "output_type": "display_data"
    }
   ],
   "source": [
    "hist = plt.hist2d(df_filt[\"etamu1\"], df_filt[\"NormAbsGenWeight\"], bins=([-6+0.25*i for i in range(49)], [1+0.5*i for i in range(9)]))\n",
    "plt.xlabel(\"etamu2\")\n",
    "plt.ylabel(\"|weight/nominal weight|\")\n",
    "plt.show()"
   ]
  },
  {
   "cell_type": "code",
   "execution_count": 80,
   "metadata": {},
   "outputs": [
    {
     "data": {
      "image/png": "[encoded data removed]",
      "text/plain": [
       "<Figure size 432x288 with 1 Axes>"
      ]
     },
     "metadata": {
      "needs_background": "light"
     },
     "output_type": "display_data"
    }
   ],
   "source": [
    "hist = plt.hist2d(df_filt[\"ptmu1\"], df_filt[\"NormAbsGenWeight\"], bins=([0.25*i for i in range(300)], [1+0.5*i for i in range(9)]))\n",
    "plt.xlabel(\"ptmu1\")\n",
    "plt.ylabel(\"|weight/nominal weight|\")\n",
    "plt.show()"
   ]
  },
  {
   "cell_type": "code",
   "execution_count": 81,
   "metadata": {},
   "outputs": [
    {
     "data": {
      "image/png": "[encoded data removed]",
      "text/plain": [
       "<Figure size 432x288 with 1 Axes>"
      ]
     },
     "metadata": {
      "needs_background": "light"
     },
     "output_type": "display_data"
    }
   ],
   "source": [
    "hist = plt.hist2d(df_filt[\"ptmu2\"], df_filt[\"NormAbsGenWeight\"], bins=([0.25*i for i in range(300)], [1+0.5*i for i in range(9)]))\n",
    "plt.xlabel(\"ptmu2\")\n",
    "plt.ylabel(\"|weight/nominal weight|\")\n",
    "plt.show()"
   ]
  },
  {
   "cell_type": "code",
   "execution_count": 120,
   "metadata": {},
   "outputs": [
    {
     "data": {
      "image/png": "[encoded data removed]",
      "text/plain": [
       "<Figure size 432x288 with 1 Axes>"
      ]
     },
     "metadata": {
      "needs_background": "light"
     },
     "output_type": "display_data"
    }
   ],
   "source": [
    "histnom = plt.hist(df_filtnom[\"ptmu1\"], bins=([0.5*i for i in range(150)]), density=True, alpha=0.5, label=\"unit weight\")\n",
    "histlarge = plt.hist(df_filt[\"ptmu1\"], bins=([0.5*i for i in range(150)]), density=True, alpha=0.5, label=\"non-unit weight\")\n",
    "plt.legend()\n",
    "plt.xlabel(\"ptmu1\")\n",
    "plt.show()"
   ]
  },
  {
   "cell_type": "code",
   "execution_count": 121,
   "metadata": {},
   "outputs": [
    {
     "data": {
      "image/png": "[encoded data removed]",
      "text/plain": [
       "<Figure size 432x288 with 1 Axes>"
      ]
     },
     "metadata": {
      "needs_background": "light"
     },
     "output_type": "display_data"
    }
   ],
   "source": [
    "histnom = plt.hist(df_filtnom[\"ptmu2\"], bins=([0.5*i for i in range(150)]), density=True, alpha=0.5, label=\"unit weight\")\n",
    "histlarge = plt.hist(df_filt[\"ptmu2\"], bins=([0.5*i for i in range(150)]), density=True, alpha=0.5, label=\"non-unit weight\")\n",
    "plt.legend()\n",
    "plt.xlabel(\"ptmu2\")\n",
    "plt.show()"
   ]
  },
  {
   "cell_type": "code",
   "execution_count": 117,
   "metadata": {},
   "outputs": [
    {
     "data": {
      "image/png": "[encoded data removed]",
      "text/plain": [
       "<Figure size 432x288 with 1 Axes>"
      ]
     },
     "metadata": {
      "needs_background": "light"
     },
     "output_type": "display_data"
    }
   ],
   "source": [
    "histnom = plt.hist(df_filtnom[\"etamu1\"], bins=([-6+0.1*i for i in range(120)]), density=True, alpha=0.5, label=\"unit weight\")\n",
    "histlarge = plt.hist(df_filt[\"etamu1\"], bins=([-6+0.1*i for i in range(120)]), density=True, alpha=0.5, label=\"non-unit weight\")\n",
    "plt.legend()\n",
    "plt.xlabel(\"etamu1\")\n",
    "plt.show()"
   ]
  },
  {
   "cell_type": "code",
   "execution_count": 118,
   "metadata": {},
   "outputs": [
    {
     "data": {
      "image/png": "[encoded data removed]",
      "text/plain": [
       "<Figure size 432x288 with 1 Axes>"
      ]
     },
     "metadata": {
      "needs_background": "light"
     },
     "output_type": "display_data"
    }
   ],
   "source": [
    "histnom = plt.hist(df_filtnom[\"etamu2\"], bins=([-6+0.1*i for i in range(120)]), density=True, alpha=0.5, label=\"unit weight\")\n",
    "histlarge = plt.hist(df_filt[\"etamu2\"], bins=([-6+0.1*i for i in range(120)]), density=True, alpha=0.5, label=\"non-unit weight\")\n",
    "plt.legend()\n",
    "plt.xlabel(\"etamu2\")\n",
    "plt.show()"
   ]
  }
 ],
 "metadata": {
  "kernelspec": {
   "display_name": "Python 3",
   "language": "python",
   "name": "python3"
  },
  "language_info": {
   "codemirror_mode": {
    "name": "ipython",
    "version": 3
   },
   "file_extension": ".py",
   "mimetype": "text/x-python",
   "name": "python",
   "nbconvert_exporter": "python",
   "pygments_lexer": "ipython3",
   "version": "3.7.6"
  }
 },
 "nbformat": 4,
 "nbformat_minor": 4
}
