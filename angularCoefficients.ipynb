{
 "cells": [
  {
   "cell_type": "code",
   "execution_count": 1,
   "metadata": {},
   "outputs": [
    {
     "name": "stdout",
     "output_type": "stream",
     "text": [
      "Welcome to JupyROOT 6.20/02\n"
     ]
    }
   ],
   "source": [
    "import ROOT"
   ]
  },
  {
   "cell_type": "code",
   "execution_count": 3,
   "metadata": {},
   "outputs": [],
   "source": [
    "df_read = ROOT.RDataFrame(\"Events\", \"data/mWPilot/ZJToMuMu_mWPilot_TuneCP5_13TeV-powheg-MiNNLO-pythia8-photos_NanoGen_1.root\")"
   ]
  },
  {
   "cell_type": "code",
   "execution_count": 4,
   "metadata": {},
   "outputs": [
    {
     "name": "stderr",
     "output_type": "stream",
     "text": [
      "Warning in <TClass::Init>: no dictionary for class edm::ProcessHistory is available\n",
      "Warning in <TClass::Init>: no dictionary for class edm::ProcessConfiguration is available\n",
      "Warning in <TClass::Init>: no dictionary for class edm::ParameterSetBlob is available\n",
      "Warning in <TClass::Init>: no dictionary for class edm::Hash<1> is available\n",
      "Warning in <TClass::Init>: no dictionary for class pair<edm::Hash<1>,edm::ParameterSetBlob> is available\n",
      "Warning in <TClass::Init>: no dictionary for class __pair_base<edm::Hash<1>,edm::ParameterSetBlob> is available\n"
     ]
    }
   ],
   "source": [
    "tmpdf = df_read.Define(\"pmu1\", \"ROOT::Math::PtEtaPhiMVector(LHEPart_pt[0], LHEPart_eta[0], LHEPart_phi[0], LHEPart_mass[0])\")\n",
    "tmpdf = tmpdf.Define(\"pmu2\", \"ROOT::Math::PtEtaPhiMVector(LHEPart_pt[1], LHEPart_eta[1], LHEPart_phi[1], LHEPart_mass[1])\")"
   ]
  },
  {
   "cell_type": "code",
   "execution_count": 5,
   "metadata": {},
   "outputs": [],
   "source": [
    "newdf = tmpdf.Define(\"pZ\", \"pmu1+pmu2\")"
   ]
  },
  {
   "cell_type": "code",
   "execution_count": 6,
   "metadata": {},
   "outputs": [],
   "source": [
    "dfz = newdf.Define(\"ptZ\", \"pZ.Pt()\")\n",
    "dfz = dfz.Define(\"yZ\", \"pZ.Rapidity()\")\n",
    "dfz = dfz.Define(\"absyZ\", \"fabs(pZ.Rapidity())\")\n",
    "dfz = dfz.Define(\"phiZ\", \"pZ.Phi()\")"
   ]
  },
  {
   "cell_type": "code",
   "execution_count": 7,
   "metadata": {},
   "outputs": [],
   "source": [
    "hist = dfz.Histo1D(\"yZ\")"
   ]
  },
  {
   "cell_type": "code",
   "execution_count": 8,
   "metadata": {},
   "outputs": [
    {
     "data": {
      "image/png": "[encoded data removed]",
      "text/plain": [
       "<IPython.core.display.Image object>"
      ]
     },
     "metadata": {},
     "output_type": "display_data"
    }
   ],
   "source": [
    "c = ROOT.TCanvas(\"canvas\")\n",
    "hist.Draw(\"hist\")\n",
    "c.Draw()"
   ]
  },
  {
   "cell_type": "code",
   "execution_count": null,
   "metadata": {},
   "outputs": [],
   "source": [
    "var_wy  = 'absyZ'\n",
    "var_wpt = 'ptZ'\n",
    "var_cos = 'prefsrw_costcs'\n",
    "var_phi = 'prefsrw_phics'"
   ]
  },
  {
   "cell_type": "code",
   "execution_count": null,
   "metadata": {},
   "outputs": [],
   "source": []
  },
  {
   "cell_type": "code",
   "execution_count": 2,
   "metadata": {},
   "outputs": [
    {
     "data": {
      "text/plain": [
       "True"
      ]
     },
     "execution_count": 2,
     "metadata": {},
     "output_type": "execute_result"
    }
   ],
   "source": [
    "ROOT.gInterpreter.Declare(\"\"\"\n",
    "std::pair<TVector3, TVector3> csBoostedProtons(TLorentzVector dilepton) {\n",
    "    float protonMass = 0.938272;\n",
    "    float energy = 6500;\n",
    "    int zsign = dilepton.Z() > 0 ? 1 : -1;\n",
    "    TLorentzVector proton1(0., 0., zsign*energy, hypot(energy, protonMass));\n",
    "    TLorentzVector proton2(0., 0., -1*zsign*energy, hypot(energy, protonMass));\n",
    "    proton1.Boost(-1*dilepton.BoostVector());\n",
    "    proton2.Boost(-1*dilepton.BoostVector());\n",
    "    return std::make_pair<TVector3, TVector3>(proton1.Vect(), proton2.Vect());\n",
    "}\n",
    "\n",
    "const TVector3 csframe(TLorentzVector dilepton) {\n",
    "    std::pair<TVector3, TVector3> protons = csBoostedProtons(dilepton);\n",
    "    TVector3 csAxis = (protons.first.Unit() - protons.second.Unit()).Unit();\n",
    "    return csAxis;\n",
    "}\n",
    "\n",
    "const TVector3 csframeY(TLorentzVector dilepton) {\n",
    "    std::pair<TVector3, TVector3> protons = csBoostedProtons(dilepton);\n",
    "    TVector3 csYAxis = protons.first.Unit().Cross(protons.second.Unit());\n",
    "    return csYAxis.Unit();\n",
    "}\n",
    "\n",
    "const TVector3 csframeX(TLorentzVector dilepton) {\n",
    "    TVector3 csAxis = csframe(dilepton);\n",
    "    TVector3 csYAxis = csframeY(dilepton);\n",
    "    TVector3 csXAxis = csYAxis.Cross(csAxis);\n",
    "    return csXAxis.Unit();\n",
    "}\n",
    "\n",
    "float cosThetaCS(ROOT::Math::PtEtaPhiMVector lplus, ROOT::Math::PtEtaPhiMVector lminus) {\n",
    "    ROOT::Math::PtEtaPhiMVector dilepton = lplus + lminus;\n",
    "    TLorentzVector dilep(dilepton.X(), dilepton.Y(), dilepton.Z(), dilepton.T());\n",
    "    TLorentzVector boostedLep(lplus.X(), lplus.Y(), lplus.Z(), lplus.T());\n",
    "    boostedLep.Boost(-1*dilep.BoostVector());\n",
    "    const TVector3 csFrame = csframe(dilep);\n",
    "    return cos(boostedLep.Angle(csFrame));\n",
    "}\n",
    "\n",
    "float phiCS(ROOT::Math::PtEtaPhiMVector lplus, ROOT::Math::PtEtaPhiMVector lminus) {\n",
    "    ROOT::Math::PtEtaPhiMVector dilepton = lplus + lminus;\n",
    "    TLorentzVector dilep(dilepton.X(), dilepton.Y(), dilepton.Z(), dilepton.T());\n",
    "    TLorentzVector boostedLep(lplus.X(), lplus.Y(), lplus.Z(), lplus.T());\n",
    "    boostedLep.Boost(-1*dilep.BoostVector());\n",
    "    const TVector3 csFrameX = csframeX(dilep);\n",
    "    const TVector3 csFrameY = csframeY(dilep);\n",
    "    float phi = atan2(boostedLep.Vect()*csFrameY, boostedLep.Vect()*csFrameX);\n",
    "    return phi >= 0 ? phi : phi + 2*M_PI;\n",
    "}\n",
    "\"\"\")"
   ]
  },
  {
   "cell_type": "code",
   "execution_count": 10,
   "metadata": {},
   "outputs": [],
   "source": [
    "tmpdf2 = dfz.Define(\"pmup\", \"LHEPart_pdgId[0] < 0 ? pmu1 : pmu2\")\n",
    "tmpdf2 = tmpdf2.Define(\"pmum\", \"LHEPart_pdgId[0] > 0 ? pmu1 : pmu2\")\n",
    "tmpdf2 = tmpdf2.Define(\"pmumpt\", \"pmum.Pt()\")"
   ]
  },
  {
   "cell_type": "code",
   "execution_count": 11,
   "metadata": {},
   "outputs": [],
   "source": [
    "dfcs = tmpdf2.Define(\"costCS\", \"cosThetaCS(pmup, pmum)\")\n",
    "dfcs = dfcs.Define(\"phics\", \"phiCS(pmup, pmum)\")"
   ]
  },
  {
   "cell_type": "code",
   "execution_count": 14,
   "metadata": {},
   "outputs": [],
   "source": [
    "histcs = dfcs.Histo1D(\"phics\")"
   ]
  },
  {
   "cell_type": "code",
   "execution_count": 13,
   "metadata": {},
   "outputs": [
    {
     "data": {
      "image/png": "[encoded data removed]",
      "text/plain": [
       "<IPython.core.display.Image object>"
      ]
     },
     "metadata": {},
     "output_type": "display_data"
    }
   ],
   "source": [
    "canvas = ROOT.TCanvas(\"canvas\")\n",
    "histcs.Draw()\n",
    "canvas.Draw()"
   ]
  }
 ],
 "metadata": {
  "kernelspec": {
   "display_name": "Python 3",
   "language": "python",
   "name": "python3"
  },
  "language_info": {
   "codemirror_mode": {
    "name": "ipython",
    "version": 3
   },
   "file_extension": ".py",
   "mimetype": "text/x-python",
   "name": "python",
   "nbconvert_exporter": "python",
   "pygments_lexer": "ipython3",
   "version": "3.7.6"
  }
 },
 "nbformat": 4,
 "nbformat_minor": 4
}
